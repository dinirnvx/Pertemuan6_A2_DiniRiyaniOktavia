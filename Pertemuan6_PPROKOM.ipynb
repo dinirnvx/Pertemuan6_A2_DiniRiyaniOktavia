{
  "nbformat": 4,
  "nbformat_minor": 0,
  "metadata": {
    "colab": {
      "provenance": []
    },
    "kernelspec": {
      "name": "python3",
      "display_name": "Python 3"
    },
    "language_info": {
      "name": "python"
    }
  },
  "cells": [
    {
      "cell_type": "markdown",
      "source": [
        "# Pertemuan Ke-6"
      ],
      "metadata": {
        "id": "C9a09wUGGJ8p"
      }
    },
    {
      "cell_type": "markdown",
      "source": [
        "## Latihan 1"
      ],
      "metadata": {
        "id": "6XP4bGgW0xYA"
      }
    },
    {
      "cell_type": "code",
      "execution_count": 4,
      "metadata": {
        "colab": {
          "base_uri": "https://localhost:8080/"
        },
        "id": "K0B2B7Ldvajt",
        "outputId": "b7c2a813-fecc-45de-8752-ede23972869a"
      },
      "outputs": [
        {
          "output_type": "stream",
          "name": "stdout",
          "text": [
            "{1, 2, 3, 4, 5, 6, 7, 8, 9, 10}\n"
          ]
        }
      ],
      "source": [
        "nilai = set ({3,6,9,2,5,7})\n",
        "nilai.update([1,4,8,10])\n",
        "print(nilai)"
      ]
    },
    {
      "cell_type": "markdown",
      "source": [
        "## Latihan 2"
      ],
      "metadata": {
        "id": "0ejmam3l1ssM"
      }
    },
    {
      "cell_type": "code",
      "source": [
        "nilai = set ([3,6,9,2,7])\n",
        "nilai.update([1,4,8,5,10])\n",
        "print(nilai)\n",
        "nilai.difference_update([1,3,4,5,7,8,10])\n",
        "print(nilai)"
      ],
      "metadata": {
        "colab": {
          "base_uri": "https://localhost:8080/"
        },
        "id": "8Jjavmam02kv",
        "outputId": "8e518a9b-fcd6-48da-e571-01f923a172be"
      },
      "execution_count": 13,
      "outputs": [
        {
          "output_type": "stream",
          "name": "stdout",
          "text": [
            "{1, 2, 3, 4, 5, 6, 7, 8, 9, 10}\n",
            "{2, 6, 9}\n"
          ]
        }
      ]
    },
    {
      "cell_type": "markdown",
      "source": [
        "## Latihan 3"
      ],
      "metadata": {
        "id": "yt7j-wtA5JDz"
      }
    },
    {
      "cell_type": "code",
      "source": [
        "A = {100, 7, 8}#\n",
        "B = {200, 4, 5}\n",
        "C = {300, 2, 3}\n",
        "D = {100, 200, 300}\n",
        "print(A & D)\n",
        "print(B & D)\n",
        "print(C & D)\n",
        "print(A & B & C & D)"
      ],
      "metadata": {
        "colab": {
          "base_uri": "https://localhost:8080/"
        },
        "id": "p23nTSlm5Myu",
        "outputId": "bb61f98b-8622-4f94-ba47-5795d30916ff"
      },
      "execution_count": 15,
      "outputs": [
        {
          "output_type": "stream",
          "name": "stdout",
          "text": [
            "{100}\n",
            "{200}\n",
            "{300}\n",
            "set()\n"
          ]
        }
      ]
    },
    {
      "cell_type": "markdown",
      "source": [
        "## Latihan 4"
      ],
      "metadata": {
        "id": "4W3MiYEs6oSo"
      }
    },
    {
      "cell_type": "code",
      "source": [
        "A = {100, 7, 8}\n",
        "B = {200, 4, 5}\n",
        "C = {300, 2, 3}\n",
        "D = {100, 200, 300}\n",
        "print(A.union(B))\n",
        "print(B.union(C))\n",
        "print(B.union(C).union(D))\n",
        "print(A.union(B).union(C).union(D))"
      ],
      "metadata": {
        "colab": {
          "base_uri": "https://localhost:8080/"
        },
        "id": "Dt6wZ30X6rx9",
        "outputId": "019ea8f9-2cea-44d2-84c8-58d670abb60f"
      },
      "execution_count": 18,
      "outputs": [
        {
          "output_type": "stream",
          "name": "stdout",
          "text": [
            "{100, 4, 5, 7, 8, 200}\n",
            "{2, 3, 4, 5, 200, 300}\n",
            "{2, 3, 4, 5, 100, 200, 300}\n",
            "{2, 3, 100, 4, 5, 7, 8, 200, 300}\n"
          ]
        }
      ]
    },
    {
      "cell_type": "markdown",
      "source": [
        "## Latihan 5"
      ],
      "metadata": {
        "id": "5C23-XBf7wws"
      }
    },
    {
      "cell_type": "code",
      "source": [
        "A = {'a', 'b', 'c', 'd'}\n",
        "B = {'c', 'd', 'e' }\n",
        "C = {}\n",
        "print(A.symmetric_difference(B))\n",
        "print(B.symmetric_difference(A))\n",
        "print(A.symmetric_difference(C))\n",
        "print(B.symmetric_difference(C))"
      ],
      "metadata": {
        "colab": {
          "base_uri": "https://localhost:8080/"
        },
        "id": "TjdC18Gh70GZ",
        "outputId": "dcce4376-1566-41ae-b9a6-278ec2f1b784"
      },
      "execution_count": 24,
      "outputs": [
        {
          "output_type": "stream",
          "name": "stdout",
          "text": [
            "{'e', 'b', 'a'}\n",
            "{'b', 'a', 'e'}\n",
            "{'b', 'c', 'a', 'd'}\n",
            "{'d', 'c', 'e'}\n"
          ]
        }
      ]
    },
    {
      "cell_type": "markdown",
      "source": [
        "## Latihan 6"
      ],
      "metadata": {
        "id": "LEM17AkY86z5"
      }
    },
    {
      "cell_type": "code",
      "source": [
        "A = {'a', 'b', 'c', 'd'}\n",
        "B = {'c', 'd', 'e' }\n",
        "C = {}\n",
        "print(A.difference(B))\n",
        "print(B.difference(A))\n",
        "print(A.difference(C))\n",
        "print(B.difference(C))"
      ],
      "metadata": {
        "colab": {
          "base_uri": "https://localhost:8080/"
        },
        "id": "NuOAU41h89fR",
        "outputId": "a30eb7ac-94cb-40fc-adee-82f4a85f8e99"
      },
      "execution_count": 21,
      "outputs": [
        {
          "output_type": "stream",
          "name": "stdout",
          "text": [
            "{'b', 'a'}\n",
            "{'e'}\n",
            "{'b', 'c', 'a', 'd'}\n",
            "{'d', 'c', 'e'}\n"
          ]
        }
      ]
    }
  ]
}